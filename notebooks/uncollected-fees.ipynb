{
 "cells": [
  {
   "cell_type": "code",
   "execution_count": 2,
   "id": "4fe3b105-0615-4f1d-a2e8-0d7a9ef4cb98",
   "metadata": {},
   "outputs": [],
   "source": [
    "import pandas as pd\n",
    "import numpy as np\n",
    "from google.cloud import bigquery\n",
    "import os"
   ]
  },
  {
   "cell_type": "code",
   "execution_count": 2,
   "id": "bb5b92da-be40-4726-83cf-4e544131b131",
   "metadata": {},
   "outputs": [],
   "source": [
    "BITQUERY_API_TOKEN = 'BQY0mSI2IadezoknHO3JMzexNwCpugm5'\n",
    "import config\n",
    "os.environ[\"GOOGLE_APPLICATION_CREDENTIALS\"] = config.GOOGLE_SERVICE_AUTH_JSON"
   ]
  },
  {
   "cell_type": "code",
   "execution_count": null,
   "id": "31de123d-c891-4145-a145-cedf454b38e8",
   "metadata": {},
   "outputs": [],
   "source": [
    "Query = \"\"\"query ($network: EthereumNetwork!, $address: String!) {\n",
    "  ethereum(network: $network) {\n",
    "    address(address: {is: $address}) {\n",
    "      smartContract {\n",
    "        attributes {\n",
    "          name\n",
    "          type\n",
    "          address {\n",
    "            address\n",
    "            annotation\n",
    "          }\n",
    "          value\n",
    "        }\n",
    "      }\n",
    "    }\n",
    "  }\n",
    "}\n",
    "\"\"\""
   ]
  },
  {
   "cell_type": "code",
   "execution_count": null,
   "id": "14aa76d4-4f3b-4e62-8fb4-ec23f2341802",
   "metadata": {},
   "outputs": [],
   "source": [
    "r = requests.post(endpoint, json={\"query\": Query})\n",
    "print(json.dumps(r.json(), indent=2))"
   ]
  },
  {
   "cell_type": "code",
   "execution_count": 3,
   "id": "bb272c04-c614-43a0-a2bf-7a7bea5eb06a",
   "metadata": {},
   "outputs": [],
   "source": [
    "def download_bigquery_price_mainnet(\n",
    "    contract_address, date_begin, date_end, block_start\n",
    "):\n",
    "    \"\"\"\n",
    "    Internal function to query Google Bigquery for the swap history of a Uniswap v3 pool between two dates starting from a particular block from Ethereum Mainnet.\n",
    "    Use GetPoolData.get_pool_data_bigquery which| preprocesses the data in order to conduct simualtions with the Active Strategy Framework.\n",
    "    \"\"\"\n",
    "\n",
    "    from google.cloud import bigquery\n",
    "\n",
    "    client = bigquery.Client()\n",
    "\n",
    "    query = (\n",
    "        \"\"\"\n",
    "            SELECT *\n",
    "            FROM blockchain-etl.ethereum_uniswap.UniswapV3Pool_event_Swap\n",
    "            where contract_address = lower('\"\"\"\n",
    "        + contract_address.lower()\n",
    "        + \"\"\"') and\n",
    "              block_timestamp >= '\"\"\"\n",
    "        + str(date_begin)\n",
    "        + \"\"\"' and block_timestamp <= '\"\"\"\n",
    "        + str(date_end)\n",
    "        + \"\"\"' and block_number >= \"\"\"\n",
    "        + str(block_start)\n",
    "        + \"\"\"\n",
    "            \"\"\"\n",
    "    )\n",
    "    query_job = client.query(query)  # Make an API request.\n",
    "    return query_job.to_dataframe(create_bqstorage_client=False)"
   ]
  },
  {
   "cell_type": "code",
   "execution_count": 4,
   "id": "2e0e5875-7f6c-4244-b04e-c227b80db1c0",
   "metadata": {},
   "outputs": [
    {
     "ename": "Forbidden",
     "evalue": "403 POST https://bigquery.googleapis.com/bigquery/v2/projects/imposing-ring-349623/jobs?prettyPrint=false: Access Denied: Project imposing-ring-349623: User does not have bigquery.jobs.create permission in project imposing-ring-349623.\n\nLocation: None\nJob ID: 37e9eec6-9d05-441f-ba3e-1dd76c08a9cd\n",
     "output_type": "error",
     "traceback": [
      "\u001b[0;31m---------------------------------------------------------------------------\u001b[0m",
      "\u001b[0;31mForbidden\u001b[0m                                 Traceback (most recent call last)",
      "Input \u001b[0;32mIn [4]\u001b[0m, in \u001b[0;36m<cell line: 1>\u001b[0;34m()\u001b[0m\n\u001b[0;32m----> 1\u001b[0m \u001b[43mdownload_bigquery_price_mainnet\u001b[49m\u001b[43m(\u001b[49m\u001b[38;5;124;43m'\u001b[39;49m\u001b[38;5;124;43m0x8ad599c3a0ff1de082011efddc58f1908eb6e6d8\u001b[39;49m\u001b[38;5;124;43m'\u001b[39;49m\u001b[43m,\u001b[49m\u001b[43m \u001b[49m\u001b[38;5;124;43m'\u001b[39;49m\u001b[38;5;124;43m2022-04-30\u001b[39;49m\u001b[38;5;124;43m'\u001b[39;49m\u001b[43m,\u001b[49m\u001b[43m \u001b[49m\u001b[38;5;124;43m'\u001b[39;49m\u001b[38;5;124;43m2022-05-05\u001b[39;49m\u001b[38;5;124;43m'\u001b[39;49m\u001b[43m,\u001b[49m\u001b[43m \u001b[49m\u001b[38;5;241;43m100\u001b[39;49m\u001b[43m)\u001b[49m\n",
      "Input \u001b[0;32mIn [3]\u001b[0m, in \u001b[0;36mdownload_bigquery_price_mainnet\u001b[0;34m(contract_address, date_begin, date_end, block_start)\u001b[0m\n\u001b[1;32m     11\u001b[0m client \u001b[38;5;241m=\u001b[39m bigquery\u001b[38;5;241m.\u001b[39mClient()\n\u001b[1;32m     13\u001b[0m query \u001b[38;5;241m=\u001b[39m (\n\u001b[1;32m     14\u001b[0m     \u001b[38;5;124;03m\"\"\"\u001b[39;00m\n\u001b[1;32m     15\u001b[0m \u001b[38;5;124;03m        SELECT *\u001b[39;00m\n\u001b[0;32m   (...)\u001b[0m\n\u001b[1;32m     27\u001b[0m \u001b[38;5;124m        \u001b[39m\u001b[38;5;124m\"\"\"\u001b[39m\n\u001b[1;32m     28\u001b[0m )\n\u001b[0;32m---> 29\u001b[0m query_job \u001b[38;5;241m=\u001b[39m \u001b[43mclient\u001b[49m\u001b[38;5;241;43m.\u001b[39;49m\u001b[43mquery\u001b[49m\u001b[43m(\u001b[49m\u001b[43mquery\u001b[49m\u001b[43m)\u001b[49m  \u001b[38;5;66;03m# Make an API request.\u001b[39;00m\n\u001b[1;32m     30\u001b[0m \u001b[38;5;28;01mreturn\u001b[39;00m query_job\u001b[38;5;241m.\u001b[39mto_dataframe(create_bqstorage_client\u001b[38;5;241m=\u001b[39m\u001b[38;5;28;01mFalse\u001b[39;00m)\n",
      "File \u001b[0;32m~/PycharmProjects/uniswap-automation/venv/lib/python3.8/site-packages/google/cloud/bigquery/client.py:3331\u001b[0m, in \u001b[0;36mClient.query\u001b[0;34m(self, query, job_config, job_id, job_id_prefix, location, project, retry, timeout, job_retry, api_method)\u001b[0m\n\u001b[1;32m   3320\u001b[0m     \u001b[38;5;28;01mreturn\u001b[39;00m _job_helpers\u001b[38;5;241m.\u001b[39mquery_jobs_query(\n\u001b[1;32m   3321\u001b[0m         \u001b[38;5;28mself\u001b[39m,\n\u001b[1;32m   3322\u001b[0m         query,\n\u001b[0;32m   (...)\u001b[0m\n\u001b[1;32m   3328\u001b[0m         job_retry,\n\u001b[1;32m   3329\u001b[0m     )\n\u001b[1;32m   3330\u001b[0m \u001b[38;5;28;01melif\u001b[39;00m api_method \u001b[38;5;241m==\u001b[39m enums\u001b[38;5;241m.\u001b[39mQueryApiMethod\u001b[38;5;241m.\u001b[39mINSERT:\n\u001b[0;32m-> 3331\u001b[0m     \u001b[38;5;28;01mreturn\u001b[39;00m \u001b[43m_job_helpers\u001b[49m\u001b[38;5;241;43m.\u001b[39;49m\u001b[43mquery_jobs_insert\u001b[49m\u001b[43m(\u001b[49m\n\u001b[1;32m   3332\u001b[0m \u001b[43m        \u001b[49m\u001b[38;5;28;43mself\u001b[39;49m\u001b[43m,\u001b[49m\n\u001b[1;32m   3333\u001b[0m \u001b[43m        \u001b[49m\u001b[43mquery\u001b[49m\u001b[43m,\u001b[49m\n\u001b[1;32m   3334\u001b[0m \u001b[43m        \u001b[49m\u001b[43mjob_config\u001b[49m\u001b[43m,\u001b[49m\n\u001b[1;32m   3335\u001b[0m \u001b[43m        \u001b[49m\u001b[43mjob_id\u001b[49m\u001b[43m,\u001b[49m\n\u001b[1;32m   3336\u001b[0m \u001b[43m        \u001b[49m\u001b[43mjob_id_prefix\u001b[49m\u001b[43m,\u001b[49m\n\u001b[1;32m   3337\u001b[0m \u001b[43m        \u001b[49m\u001b[43mlocation\u001b[49m\u001b[43m,\u001b[49m\n\u001b[1;32m   3338\u001b[0m \u001b[43m        \u001b[49m\u001b[43mproject\u001b[49m\u001b[43m,\u001b[49m\n\u001b[1;32m   3339\u001b[0m \u001b[43m        \u001b[49m\u001b[43mretry\u001b[49m\u001b[43m,\u001b[49m\n\u001b[1;32m   3340\u001b[0m \u001b[43m        \u001b[49m\u001b[43mtimeout\u001b[49m\u001b[43m,\u001b[49m\n\u001b[1;32m   3341\u001b[0m \u001b[43m        \u001b[49m\u001b[43mjob_retry\u001b[49m\u001b[43m,\u001b[49m\n\u001b[1;32m   3342\u001b[0m \u001b[43m    \u001b[49m\u001b[43m)\u001b[49m\n\u001b[1;32m   3343\u001b[0m \u001b[38;5;28;01melse\u001b[39;00m:\n\u001b[1;32m   3344\u001b[0m     \u001b[38;5;28;01mraise\u001b[39;00m \u001b[38;5;167;01mValueError\u001b[39;00m(\u001b[38;5;124mf\u001b[39m\u001b[38;5;124m\"\u001b[39m\u001b[38;5;124mGot unexpected value for api_method: \u001b[39m\u001b[38;5;132;01m{\u001b[39;00m\u001b[38;5;28mrepr\u001b[39m(api_method)\u001b[38;5;132;01m}\u001b[39;00m\u001b[38;5;124m\"\u001b[39m)\n",
      "File \u001b[0;32m~/PycharmProjects/uniswap-automation/venv/lib/python3.8/site-packages/google/cloud/bigquery/_job_helpers.py:114\u001b[0m, in \u001b[0;36mquery_jobs_insert\u001b[0;34m(client, query, job_config, job_id, job_id_prefix, location, project, retry, timeout, job_retry)\u001b[0m\n\u001b[1;32m    111\u001b[0m     \u001b[38;5;28;01melse\u001b[39;00m:\n\u001b[1;32m    112\u001b[0m         \u001b[38;5;28;01mreturn\u001b[39;00m query_job\n\u001b[0;32m--> 114\u001b[0m future \u001b[38;5;241m=\u001b[39m \u001b[43mdo_query\u001b[49m\u001b[43m(\u001b[49m\u001b[43m)\u001b[49m\n\u001b[1;32m    115\u001b[0m \u001b[38;5;66;03m# The future might be in a failed state now, but if it's\u001b[39;00m\n\u001b[1;32m    116\u001b[0m \u001b[38;5;66;03m# unrecoverable, we'll find out when we ask for it's result, at which\u001b[39;00m\n\u001b[1;32m    117\u001b[0m \u001b[38;5;66;03m# point, we may retry.\u001b[39;00m\n\u001b[1;32m    118\u001b[0m \u001b[38;5;28;01mif\u001b[39;00m \u001b[38;5;129;01mnot\u001b[39;00m job_id_given:\n",
      "File \u001b[0;32m~/PycharmProjects/uniswap-automation/venv/lib/python3.8/site-packages/google/cloud/bigquery/_job_helpers.py:91\u001b[0m, in \u001b[0;36mquery_jobs_insert.<locals>.do_query\u001b[0;34m()\u001b[0m\n\u001b[1;32m     88\u001b[0m query_job \u001b[38;5;241m=\u001b[39m job\u001b[38;5;241m.\u001b[39mQueryJob(job_ref, query, client\u001b[38;5;241m=\u001b[39mclient, job_config\u001b[38;5;241m=\u001b[39mjob_config)\n\u001b[1;32m     90\u001b[0m \u001b[38;5;28;01mtry\u001b[39;00m:\n\u001b[0;32m---> 91\u001b[0m     \u001b[43mquery_job\u001b[49m\u001b[38;5;241;43m.\u001b[39;49m\u001b[43m_begin\u001b[49m\u001b[43m(\u001b[49m\u001b[43mretry\u001b[49m\u001b[38;5;241;43m=\u001b[39;49m\u001b[43mretry\u001b[49m\u001b[43m,\u001b[49m\u001b[43m \u001b[49m\u001b[43mtimeout\u001b[49m\u001b[38;5;241;43m=\u001b[39;49m\u001b[43mtimeout\u001b[49m\u001b[43m)\u001b[49m\n\u001b[1;32m     92\u001b[0m \u001b[38;5;28;01mexcept\u001b[39;00m core_exceptions\u001b[38;5;241m.\u001b[39mConflict \u001b[38;5;28;01mas\u001b[39;00m create_exc:\n\u001b[1;32m     93\u001b[0m     \u001b[38;5;66;03m# The thought is if someone is providing their own job IDs and they get\u001b[39;00m\n\u001b[1;32m     94\u001b[0m     \u001b[38;5;66;03m# their job ID generation wrong, this could end up returning results for\u001b[39;00m\n\u001b[1;32m     95\u001b[0m     \u001b[38;5;66;03m# the wrong query. We thus only try to recover if job ID was not given.\u001b[39;00m\n\u001b[1;32m     96\u001b[0m     \u001b[38;5;28;01mif\u001b[39;00m job_id_given:\n",
      "File \u001b[0;32m~/PycharmProjects/uniswap-automation/venv/lib/python3.8/site-packages/google/cloud/bigquery/job/query.py:1298\u001b[0m, in \u001b[0;36mQueryJob._begin\u001b[0;34m(self, client, retry, timeout)\u001b[0m\n\u001b[1;32m   1278\u001b[0m \u001b[38;5;124;03m\"\"\"API call:  begin the job via a POST request\u001b[39;00m\n\u001b[1;32m   1279\u001b[0m \n\u001b[1;32m   1280\u001b[0m \u001b[38;5;124;03mSee\u001b[39;00m\n\u001b[0;32m   (...)\u001b[0m\n\u001b[1;32m   1294\u001b[0m \u001b[38;5;124;03m    ValueError: If the job has already begun.\u001b[39;00m\n\u001b[1;32m   1295\u001b[0m \u001b[38;5;124;03m\"\"\"\u001b[39;00m\n\u001b[1;32m   1297\u001b[0m \u001b[38;5;28;01mtry\u001b[39;00m:\n\u001b[0;32m-> 1298\u001b[0m     \u001b[38;5;28;43msuper\u001b[39;49m\u001b[43m(\u001b[49m\u001b[43mQueryJob\u001b[49m\u001b[43m,\u001b[49m\u001b[43m \u001b[49m\u001b[38;5;28;43mself\u001b[39;49m\u001b[43m)\u001b[49m\u001b[38;5;241;43m.\u001b[39;49m\u001b[43m_begin\u001b[49m\u001b[43m(\u001b[49m\u001b[43mclient\u001b[49m\u001b[38;5;241;43m=\u001b[39;49m\u001b[43mclient\u001b[49m\u001b[43m,\u001b[49m\u001b[43m \u001b[49m\u001b[43mretry\u001b[49m\u001b[38;5;241;43m=\u001b[39;49m\u001b[43mretry\u001b[49m\u001b[43m,\u001b[49m\u001b[43m \u001b[49m\u001b[43mtimeout\u001b[49m\u001b[38;5;241;43m=\u001b[39;49m\u001b[43mtimeout\u001b[49m\u001b[43m)\u001b[49m\n\u001b[1;32m   1299\u001b[0m \u001b[38;5;28;01mexcept\u001b[39;00m exceptions\u001b[38;5;241m.\u001b[39mGoogleAPICallError \u001b[38;5;28;01mas\u001b[39;00m exc:\n\u001b[1;32m   1300\u001b[0m     exc\u001b[38;5;241m.\u001b[39mmessage \u001b[38;5;241m=\u001b[39m _EXCEPTION_FOOTER_TEMPLATE\u001b[38;5;241m.\u001b[39mformat(\n\u001b[1;32m   1301\u001b[0m         message\u001b[38;5;241m=\u001b[39mexc\u001b[38;5;241m.\u001b[39mmessage, location\u001b[38;5;241m=\u001b[39m\u001b[38;5;28mself\u001b[39m\u001b[38;5;241m.\u001b[39mlocation, job_id\u001b[38;5;241m=\u001b[39m\u001b[38;5;28mself\u001b[39m\u001b[38;5;241m.\u001b[39mjob_id\n\u001b[1;32m   1302\u001b[0m     )\n",
      "File \u001b[0;32m~/PycharmProjects/uniswap-automation/venv/lib/python3.8/site-packages/google/cloud/bigquery/job/base.py:510\u001b[0m, in \u001b[0;36m_AsyncJob._begin\u001b[0;34m(self, client, retry, timeout)\u001b[0m\n\u001b[1;32m    507\u001b[0m \u001b[38;5;66;03m# jobs.insert is idempotent because we ensure that every new\u001b[39;00m\n\u001b[1;32m    508\u001b[0m \u001b[38;5;66;03m# job has an ID.\u001b[39;00m\n\u001b[1;32m    509\u001b[0m span_attributes \u001b[38;5;241m=\u001b[39m {\u001b[38;5;124m\"\u001b[39m\u001b[38;5;124mpath\u001b[39m\u001b[38;5;124m\"\u001b[39m: path}\n\u001b[0;32m--> 510\u001b[0m api_response \u001b[38;5;241m=\u001b[39m \u001b[43mclient\u001b[49m\u001b[38;5;241;43m.\u001b[39;49m\u001b[43m_call_api\u001b[49m\u001b[43m(\u001b[49m\n\u001b[1;32m    511\u001b[0m \u001b[43m    \u001b[49m\u001b[43mretry\u001b[49m\u001b[43m,\u001b[49m\n\u001b[1;32m    512\u001b[0m \u001b[43m    \u001b[49m\u001b[43mspan_name\u001b[49m\u001b[38;5;241;43m=\u001b[39;49m\u001b[38;5;124;43m\"\u001b[39;49m\u001b[38;5;124;43mBigQuery.job.begin\u001b[39;49m\u001b[38;5;124;43m\"\u001b[39;49m\u001b[43m,\u001b[49m\n\u001b[1;32m    513\u001b[0m \u001b[43m    \u001b[49m\u001b[43mspan_attributes\u001b[49m\u001b[38;5;241;43m=\u001b[39;49m\u001b[43mspan_attributes\u001b[49m\u001b[43m,\u001b[49m\n\u001b[1;32m    514\u001b[0m \u001b[43m    \u001b[49m\u001b[43mjob_ref\u001b[49m\u001b[38;5;241;43m=\u001b[39;49m\u001b[38;5;28;43mself\u001b[39;49m\u001b[43m,\u001b[49m\n\u001b[1;32m    515\u001b[0m \u001b[43m    \u001b[49m\u001b[43mmethod\u001b[49m\u001b[38;5;241;43m=\u001b[39;49m\u001b[38;5;124;43m\"\u001b[39;49m\u001b[38;5;124;43mPOST\u001b[39;49m\u001b[38;5;124;43m\"\u001b[39;49m\u001b[43m,\u001b[49m\n\u001b[1;32m    516\u001b[0m \u001b[43m    \u001b[49m\u001b[43mpath\u001b[49m\u001b[38;5;241;43m=\u001b[39;49m\u001b[43mpath\u001b[49m\u001b[43m,\u001b[49m\n\u001b[1;32m    517\u001b[0m \u001b[43m    \u001b[49m\u001b[43mdata\u001b[49m\u001b[38;5;241;43m=\u001b[39;49m\u001b[38;5;28;43mself\u001b[39;49m\u001b[38;5;241;43m.\u001b[39;49m\u001b[43mto_api_repr\u001b[49m\u001b[43m(\u001b[49m\u001b[43m)\u001b[49m\u001b[43m,\u001b[49m\n\u001b[1;32m    518\u001b[0m \u001b[43m    \u001b[49m\u001b[43mtimeout\u001b[49m\u001b[38;5;241;43m=\u001b[39;49m\u001b[43mtimeout\u001b[49m\u001b[43m,\u001b[49m\n\u001b[1;32m    519\u001b[0m \u001b[43m\u001b[49m\u001b[43m)\u001b[49m\n\u001b[1;32m    520\u001b[0m \u001b[38;5;28mself\u001b[39m\u001b[38;5;241m.\u001b[39m_set_properties(api_response)\n",
      "File \u001b[0;32m~/PycharmProjects/uniswap-automation/venv/lib/python3.8/site-packages/google/cloud/bigquery/client.py:756\u001b[0m, in \u001b[0;36mClient._call_api\u001b[0;34m(self, retry, span_name, span_attributes, job_ref, headers, **kwargs)\u001b[0m\n\u001b[1;32m    752\u001b[0m \u001b[38;5;28;01mif\u001b[39;00m span_name \u001b[38;5;129;01mis\u001b[39;00m \u001b[38;5;129;01mnot\u001b[39;00m \u001b[38;5;28;01mNone\u001b[39;00m:\n\u001b[1;32m    753\u001b[0m     \u001b[38;5;28;01mwith\u001b[39;00m create_span(\n\u001b[1;32m    754\u001b[0m         name\u001b[38;5;241m=\u001b[39mspan_name, attributes\u001b[38;5;241m=\u001b[39mspan_attributes, client\u001b[38;5;241m=\u001b[39m\u001b[38;5;28mself\u001b[39m, job_ref\u001b[38;5;241m=\u001b[39mjob_ref\n\u001b[1;32m    755\u001b[0m     ):\n\u001b[0;32m--> 756\u001b[0m         \u001b[38;5;28;01mreturn\u001b[39;00m \u001b[43mcall\u001b[49m\u001b[43m(\u001b[49m\u001b[43m)\u001b[49m\n\u001b[1;32m    758\u001b[0m \u001b[38;5;28;01mreturn\u001b[39;00m call()\n",
      "File \u001b[0;32m~/PycharmProjects/uniswap-automation/venv/lib/python3.8/site-packages/google/api_core/retry.py:283\u001b[0m, in \u001b[0;36mRetry.__call__.<locals>.retry_wrapped_func\u001b[0;34m(*args, **kwargs)\u001b[0m\n\u001b[1;32m    279\u001b[0m target \u001b[38;5;241m=\u001b[39m functools\u001b[38;5;241m.\u001b[39mpartial(func, \u001b[38;5;241m*\u001b[39margs, \u001b[38;5;241m*\u001b[39m\u001b[38;5;241m*\u001b[39mkwargs)\n\u001b[1;32m    280\u001b[0m sleep_generator \u001b[38;5;241m=\u001b[39m exponential_sleep_generator(\n\u001b[1;32m    281\u001b[0m     \u001b[38;5;28mself\u001b[39m\u001b[38;5;241m.\u001b[39m_initial, \u001b[38;5;28mself\u001b[39m\u001b[38;5;241m.\u001b[39m_maximum, multiplier\u001b[38;5;241m=\u001b[39m\u001b[38;5;28mself\u001b[39m\u001b[38;5;241m.\u001b[39m_multiplier\n\u001b[1;32m    282\u001b[0m )\n\u001b[0;32m--> 283\u001b[0m \u001b[38;5;28;01mreturn\u001b[39;00m \u001b[43mretry_target\u001b[49m\u001b[43m(\u001b[49m\n\u001b[1;32m    284\u001b[0m \u001b[43m    \u001b[49m\u001b[43mtarget\u001b[49m\u001b[43m,\u001b[49m\n\u001b[1;32m    285\u001b[0m \u001b[43m    \u001b[49m\u001b[38;5;28;43mself\u001b[39;49m\u001b[38;5;241;43m.\u001b[39;49m\u001b[43m_predicate\u001b[49m\u001b[43m,\u001b[49m\n\u001b[1;32m    286\u001b[0m \u001b[43m    \u001b[49m\u001b[43msleep_generator\u001b[49m\u001b[43m,\u001b[49m\n\u001b[1;32m    287\u001b[0m \u001b[43m    \u001b[49m\u001b[38;5;28;43mself\u001b[39;49m\u001b[38;5;241;43m.\u001b[39;49m\u001b[43m_deadline\u001b[49m\u001b[43m,\u001b[49m\n\u001b[1;32m    288\u001b[0m \u001b[43m    \u001b[49m\u001b[43mon_error\u001b[49m\u001b[38;5;241;43m=\u001b[39;49m\u001b[43mon_error\u001b[49m\u001b[43m,\u001b[49m\n\u001b[1;32m    289\u001b[0m \u001b[43m\u001b[49m\u001b[43m)\u001b[49m\n",
      "File \u001b[0;32m~/PycharmProjects/uniswap-automation/venv/lib/python3.8/site-packages/google/api_core/retry.py:190\u001b[0m, in \u001b[0;36mretry_target\u001b[0;34m(target, predicate, sleep_generator, deadline, on_error)\u001b[0m\n\u001b[1;32m    188\u001b[0m \u001b[38;5;28;01mfor\u001b[39;00m sleep \u001b[38;5;129;01min\u001b[39;00m sleep_generator:\n\u001b[1;32m    189\u001b[0m     \u001b[38;5;28;01mtry\u001b[39;00m:\n\u001b[0;32m--> 190\u001b[0m         \u001b[38;5;28;01mreturn\u001b[39;00m \u001b[43mtarget\u001b[49m\u001b[43m(\u001b[49m\u001b[43m)\u001b[49m\n\u001b[1;32m    192\u001b[0m     \u001b[38;5;66;03m# pylint: disable=broad-except\u001b[39;00m\n\u001b[1;32m    193\u001b[0m     \u001b[38;5;66;03m# This function explicitly must deal with broad exceptions.\u001b[39;00m\n\u001b[1;32m    194\u001b[0m     \u001b[38;5;28;01mexcept\u001b[39;00m \u001b[38;5;167;01mException\u001b[39;00m \u001b[38;5;28;01mas\u001b[39;00m exc:\n",
      "File \u001b[0;32m~/PycharmProjects/uniswap-automation/venv/lib/python3.8/site-packages/google/cloud/_http/__init__.py:494\u001b[0m, in \u001b[0;36mJSONConnection.api_request\u001b[0;34m(self, method, path, query_params, data, content_type, headers, api_base_url, api_version, expect_json, _target_object, timeout, extra_api_info)\u001b[0m\n\u001b[1;32m    482\u001b[0m response \u001b[38;5;241m=\u001b[39m \u001b[38;5;28mself\u001b[39m\u001b[38;5;241m.\u001b[39m_make_request(\n\u001b[1;32m    483\u001b[0m     method\u001b[38;5;241m=\u001b[39mmethod,\n\u001b[1;32m    484\u001b[0m     url\u001b[38;5;241m=\u001b[39murl,\n\u001b[0;32m   (...)\u001b[0m\n\u001b[1;32m    490\u001b[0m     extra_api_info\u001b[38;5;241m=\u001b[39mextra_api_info,\n\u001b[1;32m    491\u001b[0m )\n\u001b[1;32m    493\u001b[0m \u001b[38;5;28;01mif\u001b[39;00m \u001b[38;5;129;01mnot\u001b[39;00m \u001b[38;5;241m200\u001b[39m \u001b[38;5;241m<\u001b[39m\u001b[38;5;241m=\u001b[39m response\u001b[38;5;241m.\u001b[39mstatus_code \u001b[38;5;241m<\u001b[39m \u001b[38;5;241m300\u001b[39m:\n\u001b[0;32m--> 494\u001b[0m     \u001b[38;5;28;01mraise\u001b[39;00m exceptions\u001b[38;5;241m.\u001b[39mfrom_http_response(response)\n\u001b[1;32m    496\u001b[0m \u001b[38;5;28;01mif\u001b[39;00m expect_json \u001b[38;5;129;01mand\u001b[39;00m response\u001b[38;5;241m.\u001b[39mcontent:\n\u001b[1;32m    497\u001b[0m     \u001b[38;5;28;01mreturn\u001b[39;00m response\u001b[38;5;241m.\u001b[39mjson()\n",
      "\u001b[0;31mForbidden\u001b[0m: 403 POST https://bigquery.googleapis.com/bigquery/v2/projects/imposing-ring-349623/jobs?prettyPrint=false: Access Denied: Project imposing-ring-349623: User does not have bigquery.jobs.create permission in project imposing-ring-349623.\n\nLocation: None\nJob ID: 37e9eec6-9d05-441f-ba3e-1dd76c08a9cd\n"
     ]
    }
   ],
   "source": [
    "download_bigquery_price_mainnet('0x8ad599c3a0ff1de082011efddc58f1908eb6e6d8', '2022-04-30', '2022-05-05', 100)"
   ]
  },
  {
   "cell_type": "code",
   "execution_count": null,
   "id": "3c23cb89-c74e-4b39-a40b-bca95805736b",
   "metadata": {},
   "outputs": [],
   "source": [
    "def get_pool_data_bigquery(\n",
    "    contract_address,\n",
    "    date_begin,\n",
    "    date_end,\n",
    "    decimals_0,\n",
    "    decimals_1,\n",
    "    block_start=0,\n",
    "):\n",
    "\n",
    "    \"\"\"\n",
    "    Queries Google Bigquery for the swap history of Uniswap v3 pool between two dates starting from a particular block of Ethereum Mainnet.\n",
    "    Preprocesses data to have decimal adjusted amounts and liquidity values.\n",
    "    \"\"\"\n",
    "\n",
    "    resulting_data = download_bigquery_price_mainnet(\n",
    "    contract_address.lower(), date_begin, date_end, block_start\n",
    "\n",
    "\n",
    "    DECIMAL_ADJ = 10 ** (decimals_1 - decimals_0)\n",
    "    resulting_data[\"sqrtPriceX96_float\"] = resulting_data[\"sqrtPriceX96\"].astype(float)\n",
    "    resulting_data[\"quotePrice\"] = (\n",
    "        (resulting_data[\"sqrtPriceX96_float\"] / 2**96) ** 2\n",
    "    ) / DECIMAL_ADJ\n",
    "    resulting_data[\"block_date\"] = pd.to_datetime(resulting_data[\"block_timestamp\"])\n",
    "    resulting_data = resulting_data.set_index(\"block_date\", drop=False).sort_index()\n",
    "\n",
    "    resulting_data[\"tick_swap\"] = resulting_data[\"tick\"].astype(int)\n",
    "    resulting_data[\"amount0\"] = resulting_data[\"amount0\"].astype(float)\n",
    "    resulting_data[\"amount1\"] = resulting_data[\"amount1\"].astype(float)\n",
    "    resulting_data[\"amount0_adj\"] = (\n",
    "        resulting_data[\"amount0\"].astype(float) / 10**decimals_0\n",
    "    )\n",
    "    resulting_data[\"amount1_adj\"] = (\n",
    "        resulting_data[\"amount1\"].astype(float) / 10**decimals_1\n",
    "    )\n",
    "    resulting_data[\"virtual_liquidity\"] = resulting_data[\"liquidity\"].astype(float)\n",
    "    resulting_data[\"virtual_liquidity_adj\"] = resulting_data[\"liquidity\"].astype(\n",
    "        float\n",
    "    ) / (10 ** ((decimals_0 + decimals_1) / 2))\n",
    "    resulting_data[\"token_in\"] = resulting_data.apply(\n",
    "        lambda x: \"token0\" if (x[\"amount0_adj\"] < 0) else \"token1\", axis=1\n",
    "    )\n",
    "    resulting_data[\"traded_in\"] = resulting_data.apply(\n",
    "        lambda x: -x[\"amount0_adj\"] if (x[\"amount0_adj\"] < 0) else -x[\"amount1_adj\"],\n",
    "        axis=1,\n",
    "    ).astype(float)\n",
    "\n",
    "    return resulting_data"
   ]
  },
  {
   "cell_type": "code",
   "execution_count": 25,
   "id": "32646865-f182-4521-a7aa-4f31ce8540bd",
   "metadata": {},
   "outputs": [
    {
     "data": {
      "text/plain": [
       "(0, 88425.77342867808)"
      ]
     },
     "execution_count": 25,
     "metadata": {},
     "output_type": "execute_result"
    }
   ],
   "source": [
    "get_amounts(tick, tickLower, tickUpper, liquidity, dec_0, dec_1)"
   ]
  },
  {
   "cell_type": "code",
   "execution_count": 3,
   "id": "cfd982ec-8413-4f83-b1e0-7fa317084d0d",
   "metadata": {},
   "outputs": [],
   "source": [
    "#decimals\n",
    "\n",
    "dec_0 = 6\n",
    "dec_1 = 18"
   ]
  },
  {
   "cell_type": "code",
   "execution_count": 4,
   "id": "53d99175-0b4d-46a9-a494-2ca71f9cc0e6",
   "metadata": {},
   "outputs": [],
   "source": [
    "def get_amount0(sqrtA, sqrtB, liquidity, decimals):\n",
    "\n",
    "    if sqrtA > sqrtB:\n",
    "        (sqrtA, sqrtB) = (sqrtB, sqrtA)\n",
    "\n",
    "    amount0 = (liquidity * 2 ** 96 * (sqrtB - sqrtA) / sqrtB / sqrtA) / 10 ** decimals\n",
    "\n",
    "    return amount0\n",
    "\n",
    "\n",
    "def get_amount1(sqrtA, sqrtB, liquidity, decimals):\n",
    "\n",
    "    if sqrtA > sqrtB:\n",
    "        (sqrtA, sqrtB) = (sqrtB, sqrtA)\n",
    "\n",
    "    amount1 = liquidity * (sqrtB - sqrtA) / 2 ** 96 / 10 ** decimals\n",
    "\n",
    "    return amount1\n",
    "\n",
    "def get_amounts(tick, tickA, tickB, liquidity, decimal0, decimal1):\n",
    "\n",
    "    sqrt = int(1.0001 ** (tick / 2) * (2 ** 96))\n",
    "    sqrtA = int(1.0001 ** (tickA / 2) * (2 ** 96))\n",
    "    sqrtB = int(1.0001 ** (tickB / 2) * (2 ** 96))\n",
    "\n",
    "    if sqrtA > sqrtB:\n",
    "        (sqrtA, sqrtB) = (sqrtB, sqrtA)\n",
    "\n",
    "    if sqrt <= sqrtA:\n",
    "\n",
    "        amount0 = get_amount0(sqrtA, sqrtB, liquidity, decimal0)\n",
    "        return amount0, 0\n",
    "\n",
    "    elif sqrtB > sqrt > sqrtA:\n",
    "        amount0 = get_amount0(sqrt, sqrtB, liquidity, decimal0)\n",
    "        amount1 = get_amount1(sqrtA, sqrt, liquidity, decimal1)\n",
    "        return amount0, amount1\n",
    "\n",
    "    else:\n",
    "        amount1 = get_amount1(sqrtA, sqrtB, liquidity, decimal1)\n",
    "        return 0, amount1\n",
    "    \n",
    "    \n",
    "def amounts_relation(tick, tickA, tickB, decimals0, decimals1):\n",
    "\n",
    "    sqrt = (1.0001 ** tick / 10 ** (decimals1 - decimals0)) ** (1 / 2)\n",
    "    sqrtA = (1.0001 ** tickA / 10 ** (decimals1 - decimals0)) ** (1 / 2)\n",
    "    sqrtB = (1.0001 ** tickB / 10 ** (decimals1 - decimals0)) ** (1 / 2)\n",
    "\n",
    "    if sqrt == sqrtA or sqrt == sqrtB:\n",
    "        relation = 0\n",
    "    #         print(\"There is 0 tokens on one side\")\n",
    "    else:\n",
    "        relation = (sqrt - sqrtA) / ((1 / sqrt) - (1 / sqrtB))\n",
    "    return relation"
   ]
  },
  {
   "cell_type": "code",
   "execution_count": 50,
   "id": "1e129d0f-9b61-495c-915c-edc79bf1fb96",
   "metadata": {},
   "outputs": [],
   "source": [
    "# Position https://etherscan.io/address/0xc36442b4a4522e871399cd717abdd847ab11fe88#readContract\n",
    "# TokenId 236595\n",
    "# Transaction - https://etherscan.io/tx/0x9b173baa9442fcb53cdde9876eaabeac9a71ff93d822e5398b5cfd6a5d38a199\n",
    "\n",
    "token0 = 0xA0b86991c6218b36c1d19D4a2e9Eb0cE3606eB48\n",
    "token1 = 0xC02aaA39b223FE8D0A0e5C4F27eAD9083C756Cc2\n",
    "fee = 3000\n",
    "tickLower = 196200\n",
    "tickUpper = 201660\n",
    "pos_liquidity = 26938023944267617\n",
    "feeGrowthInside0LastX128 = 1146045437454411223706317130808195\n",
    "feeGrowthInside1LastX128 = 472868971286049499087619319314568638950194\n",
    "tokensOwed0 = 863372171\n",
    "tokensOwed1 = 362821509667276570"
   ]
  },
  {
   "cell_type": "code",
   "execution_count": 6,
   "id": "ef059f54-15d7-429a-a9cc-7492c997de24",
   "metadata": {},
   "outputs": [],
   "source": [
    "# ticks i_l, i_u info\n",
    "\n",
    "#Lower\n",
    "L_liquidityGross = 18216572431750930\n",
    "L_liquidityNet = 18216572431750930\n",
    "L_feeGrowthOutside0X128 = 771898924715078716122457993949735\n",
    "L_feeGrowthOutside1X128 = 299686152818024558401586591746381951788873\n",
    "L_tickCumulativeOutside = 874561673429\n",
    "L_secondsPerLiquidityOutsideX128 = 198044337547991777424606226079348331092728\n",
    "L_secondsOutside = 1624605540\n",
    "L_initialized = True\n",
    "\n",
    "#Upper\n",
    "U_liquidityGross = 1683230461217016778\n",
    "U_liquidityNet = 1299234642981930080\n",
    "U_feeGrowthOutside0X128 = 1226433780500214190158000189806691\n",
    "U_feeGrowthOutside1X128 = 365746732484003642662975858100178521758045\n",
    "U_tickCumulativeOutside = 4519733975844\n",
    "U_secondsPerLiquidityOutsideX128 = 198044337547992220998400984601510297703566\n",
    "U_secondsOutside = 1643365229\n",
    "U_initialized = True\n",
    "\n"
   ]
  },
  {
   "cell_type": "code",
   "execution_count": 16,
   "id": "3c8ac672-e494-45df-bc36-53d4e5fd9ae5",
   "metadata": {},
   "outputs": [],
   "source": [
    "# Pool state - https://etherscan.io/address/0x8ad599c3a0ff1de082011efddc58f1908eb6e6d8#readContract\n",
    "\n",
    "sqrtPriceX96 =  1617871362335671645645002850471718\n",
    "tick = 198495\n",
    "observationIndex = 976\n",
    "observationCardinality = 1440\n",
    "observationCardinalityNext = 1440\n",
    "feeProtocol = 0\n",
    "\n",
    "liquidity = 10200180983978284202\n",
    "\n",
    "feeGrowthGlobal0X128 = 2046477727527315981651672382110787\n",
    "feeGrowthGlobal1X128 = 724331803708946607581226850148167065366051"
   ]
  },
  {
   "cell_type": "code",
   "execution_count": 36,
   "id": "fb2fa79a-93a0-4b7a-a216-bd945d7ef799",
   "metadata": {},
   "outputs": [
    {
     "data": {
      "text/plain": [
       "0.0004169930415991001"
      ]
     },
     "execution_count": 36,
     "metadata": {},
     "output_type": "execute_result"
    }
   ],
   "source": [
    "(sqrtPriceX96/2**96)**2 * 10**(dec_0-dec_1)"
   ]
  },
  {
   "cell_type": "markdown",
   "id": "aca21a35-0d18-4eb8-844a-96c046a7c989",
   "metadata": {},
   "source": [
    "** To find "
   ]
  },
  {
   "cell_type": "code",
   "execution_count": 14,
   "id": "dac9ee95-1d1a-4b74-837d-5d8c113c561f",
   "metadata": {},
   "outputs": [],
   "source": [
    "# All in 1 token"
   ]
  },
  {
   "cell_type": "code",
   "execution_count": 98,
   "id": "783b2f0e-e5d4-4b2b-986c-0d62b97c72b0",
   "metadata": {},
   "outputs": [],
   "source": [
    "# Check upper tick\n",
    "def get_fees_for_range(tick, tickA, tickB, feeGrowthGlobal, U_feeGrowthOutside, L_feeGrowthOutside):\n",
    "    if tick >= tickB:\n",
    "        f_a = feeGrowthGlobal - U_feeGrowthOutside\n",
    "    else:\n",
    "        f_a = U_feeGrowthOutside\n",
    "    \n",
    "    if tick >= tickA:\n",
    "        f_b = L_feeGrowthOutside\n",
    "    else:\n",
    "        f_b = feeGrowthGlobal - L_feeGrowthOutside\n",
    "\n",
    "    f_range = feeGrowthGlobal - f_a - f_b\n",
    "    \n",
    "    return f_range / 2**128"
   ]
  },
  {
   "cell_type": "code",
   "execution_count": 99,
   "id": "1875fe35-6832-42f7-b032-f58f65483b6f",
   "metadata": {},
   "outputs": [
    {
     "name": "stdout",
     "output_type": "stream",
     "text": [
      "173.0883646421886\n",
      "1.414855043699903e-07\n"
     ]
    }
   ],
   "source": [
    "print(get_fees_for_range(tick, tickLower, tickUpper, feeGrowthGlobal1X128, U_feeGrowthOutside1X128, L_feeGrowthOutside1X128))\n",
    "print(get_fees_for_range(tick, tickLower, tickUpper, feeGrowthGlobal0X128, U_feeGrowthOutside0X128, L_feeGrowthOutside0X128))"
   ]
  },
  {
   "cell_type": "code",
   "execution_count": 91,
   "id": "541138bd-e2bc-42eb-acfc-0b0c82cbda82",
   "metadata": {},
   "outputs": [
    {
     "data": {
      "text/plain": [
       "1389.6370110647442"
      ]
     },
     "execution_count": 91,
     "metadata": {},
     "output_type": "execute_result"
    }
   ],
   "source": [
    "feeGrowthInside1LastX128/2**128"
   ]
  },
  {
   "cell_type": "code",
   "execution_count": 100,
   "id": "c3f58027-1f5a-46e6-a23d-83f08d24defb",
   "metadata": {},
   "outputs": [],
   "source": [
    "def fees_uncollected_position(tick, tickA, tickB, feeGrowthGlobal, U_feeGrowthOutside, L_feeGrowthOutside, feeGrowthInside, pos_liquidity, decimals):\n",
    "    f_range_uncollected = get_fees_for_range(tick, tickA, tickB, feeGrowthGlobal, U_feeGrowthOutside, L_feeGrowthOutside)\n",
    "    return pos_liquidity * (f_range_uncollected - feeGrowthInside/2**128)"
   ]
  },
  {
   "cell_type": "code",
   "execution_count": 101,
   "id": "6cc051c8-0c67-4627-bf6a-07a5f17e9c77",
   "metadata": {},
   "outputs": [
    {
     "data": {
      "text/plain": [
       "-3.2771416566697157e+19"
      ]
     },
     "execution_count": 101,
     "metadata": {},
     "output_type": "execute_result"
    }
   ],
   "source": [
    "fees_uncollected_position(tick, tickLower, tickUpper, feeGrowthGlobal1X128, U_feeGrowthOutside1X128, L_feeGrowthOutside1X128, feeGrowthInside1LastX128, pos_liquidity, dec_1)\n",
    "\n"
   ]
  },
  {
   "cell_type": "code",
   "execution_count": 102,
   "id": "a5445592-351a-4c62-b25b-64d4ccad36aa",
   "metadata": {},
   "outputs": [
    {
     "data": {
      "text/plain": [
       "-86913900179.84258"
      ]
     },
     "execution_count": 102,
     "metadata": {},
     "output_type": "execute_result"
    }
   ],
   "source": [
    "fees_uncollected_position(tick, tickLower, tickUpper, feeGrowthGlobal0X128, U_feeGrowthOutside0X128, L_feeGrowthOutside0X128, feeGrowthInside0LastX128, pos_liquidity, dec_0)\n",
    "\n"
   ]
  },
  {
   "cell_type": "code",
   "execution_count": 76,
   "id": "6693b350-08ed-4b23-ac26-1e72ceb9ef0f",
   "metadata": {},
   "outputs": [
    {
     "data": {
      "text/plain": [
       "1389.6370110647442"
      ]
     },
     "execution_count": 76,
     "metadata": {},
     "output_type": "execute_result"
    }
   ],
   "source": [
    "feeGrowthInside1LastX128 / 2**128"
   ]
  },
  {
   "cell_type": "code",
   "execution_count": 103,
   "id": "7aae4ab3-8c33-45d2-98dc-f956f9be9023",
   "metadata": {},
   "outputs": [
    {
     "data": {
      "text/plain": [
       "(193076.88153517284, 59.630328294076946)"
      ]
     },
     "execution_count": 103,
     "metadata": {},
     "output_type": "execute_result"
    }
   ],
   "source": [
    "get_amounts(tick,tickLower, tickUpper, pos_liquidity, dec_0, dec_1)"
   ]
  },
  {
   "cell_type": "code",
   "execution_count": null,
   "id": "b353d7e9-36bb-4331-8337-a02a8b7dd6d7",
   "metadata": {},
   "outputs": [],
   "source": []
  },
  {
   "cell_type": "code",
   "execution_count": 49,
   "id": "58e6ffe8-57d8-445b-a1e2-6cfd1abcc882",
   "metadata": {},
   "outputs": [],
   "source": [
    "def to_float(x,e):\n",
    "    c = abs(x)\n",
    "    sign = 1 \n",
    "    if x < 0:\n",
    "        # convert back from two's complement\n",
    "        c = x - 1 \n",
    "        c = ~c\n",
    "        sign = -1\n",
    "    f = (1.0 * c) / (2 ** e)\n",
    "    f = f * sign\n",
    "    return f"
   ]
  },
  {
   "cell_type": "code",
   "execution_count": 60,
   "id": "a415227b-fa7f-4a81-9d43-ef66f089d23c",
   "metadata": {},
   "outputs": [
    {
     "data": {
      "text/plain": [
       "1731.764049365379"
      ]
     },
     "execution_count": 60,
     "metadata": {},
     "output_type": "execute_result"
    }
   ],
   "source": [
    "to_float(589288769666640050413360360828235182981321, 128)"
   ]
  },
  {
   "cell_type": "code",
   "execution_count": 63,
   "id": "2040117b-5427-45cc-9a9d-ee97d2b73ec2",
   "metadata": {},
   "outputs": [
    {
     "data": {
      "text/plain": [
       "4.515442969079665e-06"
      ]
     },
     "execution_count": 63,
     "metadata": {},
     "output_type": "execute_result"
    }
   ],
   "source": [
    "to_float(1536525621214938325098269939695336, 128)"
   ]
  },
  {
   "cell_type": "code",
   "execution_count": 2,
   "id": "e6b712c0-7fdc-4dc1-9641-30de13608467",
   "metadata": {},
   "outputs": [],
   "source": [
    "import pickle"
   ]
  },
  {
   "cell_type": "code",
   "execution_count": 6,
   "id": "b74807b3-7e87-4525-8cf9-bc8aa4030d65",
   "metadata": {},
   "outputs": [],
   "source": [
    "with open('data/eth_usdc_swap.pkl', \"rb\") as fh:\n",
    "    data = pickle.load(fh)"
   ]
  },
  {
   "cell_type": "code",
   "execution_count": 7,
   "id": "2b47c53d-dfcc-4e01-a8ae-8e3d1bf9fa77",
   "metadata": {},
   "outputs": [],
   "source": [
    "import pandas as pd"
   ]
  },
  {
   "cell_type": "code",
   "execution_count": 8,
   "id": "9282902a-e739-44b6-b084-01bbe4e602e1",
   "metadata": {},
   "outputs": [
    {
     "data": {
      "text/html": [
       "<div>\n",
       "<style scoped>\n",
       "    .dataframe tbody tr th:only-of-type {\n",
       "        vertical-align: middle;\n",
       "    }\n",
       "\n",
       "    .dataframe tbody tr th {\n",
       "        vertical-align: top;\n",
       "    }\n",
       "\n",
       "    .dataframe thead th {\n",
       "        text-align: right;\n",
       "    }\n",
       "</style>\n",
       "<table border=\"1\" class=\"dataframe\">\n",
       "  <thead>\n",
       "    <tr style=\"text-align: right;\">\n",
       "      <th></th>\n",
       "      <th>id</th>\n",
       "      <th>timestamp</th>\n",
       "      <th>tick</th>\n",
       "      <th>amount0</th>\n",
       "      <th>amount1</th>\n",
       "      <th>amountUSD</th>\n",
       "    </tr>\n",
       "  </thead>\n",
       "  <tbody>\n",
       "    <tr>\n",
       "      <th>0</th>\n",
       "      <td>0x000035d5e2bacbcdfad84b1b97113f2c4a83534bc7e4...</td>\n",
       "      <td>1621348552</td>\n",
       "      <td>195353</td>\n",
       "      <td>-341098.711504</td>\n",
       "      <td>104.1156</td>\n",
       "      <td>341744.6271658624201755352726503601</td>\n",
       "    </tr>\n",
       "    <tr>\n",
       "      <th>1</th>\n",
       "      <td>0x0000cbd95c55d590cfd68a9c593957aca9de75824e94...</td>\n",
       "      <td>1638835892</td>\n",
       "      <td>192536</td>\n",
       "      <td>-744.608566</td>\n",
       "      <td>0.171619960261869437</td>\n",
       "      <td>745.729040061016820805721675871721</td>\n",
       "    </tr>\n",
       "    <tr>\n",
       "      <th>2</th>\n",
       "      <td>0x0000d28bd990d3232d2c72b10ad5b99c2803c4648eaf...</td>\n",
       "      <td>1623239511</td>\n",
       "      <td>198022</td>\n",
       "      <td>26582.946537</td>\n",
       "      <td>-10.541053894510651217</td>\n",
       "      <td>26542.96632908660648949465857012522</td>\n",
       "    </tr>\n",
       "    <tr>\n",
       "      <th>3</th>\n",
       "      <td>0x00012ce2df8aacdf8c0ec30631170845704b2249f7b0...</td>\n",
       "      <td>1627390084</td>\n",
       "      <td>198938</td>\n",
       "      <td>200000</td>\n",
       "      <td>-86.928111599666651722</td>\n",
       "      <td>199677.3127029941910943241438634473</td>\n",
       "    </tr>\n",
       "    <tr>\n",
       "      <th>4</th>\n",
       "      <td>0x000130477fe48e93859ae71712e540327aa48b18c54f...</td>\n",
       "      <td>1630237508</td>\n",
       "      <td>195615</td>\n",
       "      <td>-1116978.523808</td>\n",
       "      <td>350</td>\n",
       "      <td>1119078.488894339722287168798626164</td>\n",
       "    </tr>\n",
       "    <tr>\n",
       "      <th>...</th>\n",
       "      <td>...</td>\n",
       "      <td>...</td>\n",
       "      <td>...</td>\n",
       "      <td>...</td>\n",
       "      <td>...</td>\n",
       "      <td>...</td>\n",
       "    </tr>\n",
       "    <tr>\n",
       "      <th>12995</th>\n",
       "      <td>0x0e0ce49275d594edb858c1b14dd0f9028510292a68d1...</td>\n",
       "      <td>1637763822</td>\n",
       "      <td>192886</td>\n",
       "      <td>557850.263723</td>\n",
       "      <td>-132.461619620591735566</td>\n",
       "      <td>556805.023914860124348187291632405</td>\n",
       "    </tr>\n",
       "    <tr>\n",
       "      <th>12996</th>\n",
       "      <td>0x0e0d874a7581194f18f6d61ea061de18831c66b96352...</td>\n",
       "      <td>1646414027</td>\n",
       "      <td>197358</td>\n",
       "      <td>157600.45</td>\n",
       "      <td>-58.500015831458282413</td>\n",
       "      <td>157338.818080755112285765395126147</td>\n",
       "    </tr>\n",
       "    <tr>\n",
       "      <th>12997</th>\n",
       "      <td>0x0e0db9c4a365760b5716092966a546c49151fe9bcef5...</td>\n",
       "      <td>1649103273</td>\n",
       "      <td>194750</td>\n",
       "      <td>-4650</td>\n",
       "      <td>1.337304308940230188</td>\n",
       "      <td>4657.004947780983065107394209136967</td>\n",
       "    </tr>\n",
       "    <tr>\n",
       "      <th>12998</th>\n",
       "      <td>0x0e0e743f4a1a329f9bb493a40c86d07cb8722a8e7a72...</td>\n",
       "      <td>1624859298</td>\n",
       "      <td>200453</td>\n",
       "      <td>-393200.386124</td>\n",
       "      <td>200</td>\n",
       "      <td>393801.5121945686181011115428126334</td>\n",
       "    </tr>\n",
       "    <tr>\n",
       "      <th>12999</th>\n",
       "      <td>0x0e0edbf7febbe6bf72fdceb476b48171fe723ab3d392...</td>\n",
       "      <td>1649706615</td>\n",
       "      <td>196250</td>\n",
       "      <td>200</td>\n",
       "      <td>-0.066425846649440457</td>\n",
       "      <td>199.699978390770123356691868503756</td>\n",
       "    </tr>\n",
       "  </tbody>\n",
       "</table>\n",
       "<p>13000 rows × 6 columns</p>\n",
       "</div>"
      ],
      "text/plain": [
       "                                                      id   timestamp    tick  \\\n",
       "0      0x000035d5e2bacbcdfad84b1b97113f2c4a83534bc7e4...  1621348552  195353   \n",
       "1      0x0000cbd95c55d590cfd68a9c593957aca9de75824e94...  1638835892  192536   \n",
       "2      0x0000d28bd990d3232d2c72b10ad5b99c2803c4648eaf...  1623239511  198022   \n",
       "3      0x00012ce2df8aacdf8c0ec30631170845704b2249f7b0...  1627390084  198938   \n",
       "4      0x000130477fe48e93859ae71712e540327aa48b18c54f...  1630237508  195615   \n",
       "...                                                  ...         ...     ...   \n",
       "12995  0x0e0ce49275d594edb858c1b14dd0f9028510292a68d1...  1637763822  192886   \n",
       "12996  0x0e0d874a7581194f18f6d61ea061de18831c66b96352...  1646414027  197358   \n",
       "12997  0x0e0db9c4a365760b5716092966a546c49151fe9bcef5...  1649103273  194750   \n",
       "12998  0x0e0e743f4a1a329f9bb493a40c86d07cb8722a8e7a72...  1624859298  200453   \n",
       "12999  0x0e0edbf7febbe6bf72fdceb476b48171fe723ab3d392...  1649706615  196250   \n",
       "\n",
       "               amount0                  amount1  \\\n",
       "0       -341098.711504                 104.1156   \n",
       "1          -744.608566     0.171619960261869437   \n",
       "2         26582.946537   -10.541053894510651217   \n",
       "3               200000   -86.928111599666651722   \n",
       "4      -1116978.523808                      350   \n",
       "...                ...                      ...   \n",
       "12995    557850.263723  -132.461619620591735566   \n",
       "12996        157600.45   -58.500015831458282413   \n",
       "12997            -4650     1.337304308940230188   \n",
       "12998   -393200.386124                      200   \n",
       "12999              200    -0.066425846649440457   \n",
       "\n",
       "                                 amountUSD  \n",
       "0      341744.6271658624201755352726503601  \n",
       "1       745.729040061016820805721675871721  \n",
       "2      26542.96632908660648949465857012522  \n",
       "3      199677.3127029941910943241438634473  \n",
       "4      1119078.488894339722287168798626164  \n",
       "...                                    ...  \n",
       "12995   556805.023914860124348187291632405  \n",
       "12996   157338.818080755112285765395126147  \n",
       "12997  4657.004947780983065107394209136967  \n",
       "12998  393801.5121945686181011115428126334  \n",
       "12999   199.699978390770123356691868503756  \n",
       "\n",
       "[13000 rows x 6 columns]"
      ]
     },
     "execution_count": 8,
     "metadata": {},
     "output_type": "execute_result"
    }
   ],
   "source": [
    "pd.DataFrame(data)"
   ]
  },
  {
   "cell_type": "code",
   "execution_count": 9,
   "id": "87c21fd6-f5ef-4a89-8009-05b7950cfcb1",
   "metadata": {},
   "outputs": [
    {
     "data": {
      "text/plain": [
       "'1.4.2'"
      ]
     },
     "execution_count": 9,
     "metadata": {},
     "output_type": "execute_result"
    }
   ],
   "source": [
    "pd.__version__"
   ]
  },
  {
   "cell_type": "code",
   "execution_count": null,
   "id": "40cbaec1-c1ad-4a84-b595-c1c78977da3d",
   "metadata": {},
   "outputs": [],
   "source": []
  }
 ],
 "metadata": {
  "kernelspec": {
   "display_name": "Python 3 (ipykernel)",
   "language": "python",
   "name": "python3"
  },
  "language_info": {
   "codemirror_mode": {
    "name": "ipython",
    "version": 3
   },
   "file_extension": ".py",
   "mimetype": "text/x-python",
   "name": "python",
   "nbconvert_exporter": "python",
   "pygments_lexer": "ipython3",
   "version": "3.8.9"
  }
 },
 "nbformat": 4,
 "nbformat_minor": 5
}
